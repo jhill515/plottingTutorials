{
 "cells": [
  {
   "cell_type": "code",
   "execution_count": 1,
   "metadata": {},
   "outputs": [
    {
     "name": "stderr",
     "output_type": "stream",
     "text": [
      "/home/john/.local/lib/python3.6/site-packages/bqplot/pyplot.py:603: FutureWarning: Conversion of the second argument of issubdtype from `str` to `str` is deprecated. In future, it will be treated as `np.str_ == np.dtype(str).type`.\n",
      "  issubdtype(dtype, Scale.scale_types[key].dtype)\n"
     ]
    },
    {
     "data": {
      "application/vnd.jupyter.widget-view+json": {
       "model_id": "521544665a43457bb2c9253e8c25ee06",
       "version_major": 2,
       "version_minor": 0
      },
      "text/plain": [
       "VBox(children=(Figure(axes=[Axis(scale=LinearScale()), Axis(orientation='vertical', scale=LinearScale())], fig…"
      ]
     },
     "metadata": {},
     "output_type": "display_data"
    }
   ],
   "source": [
    "from bqplot import pyplot as plt\n",
    "import numpy as np\n",
    "\n",
    "plt.figure(1, title='Line Chart')\n",
    "np.random.seed(0)\n",
    "n = 200\n",
    "x = np.linspace(0.0, 10.0, n)\n",
    "y = np.cumsum(np.random.randn(n))\n",
    "plt.plot(x, y)\n",
    "plt.show()"
   ]
  },
  {
   "cell_type": "code",
   "execution_count": 2,
   "metadata": {},
   "outputs": [
    {
     "data": {
      "application/vnd.jupyter.widget-view+json": {
       "model_id": "929d9f4e034c45a2b19ff31720e30036",
       "version_major": 2,
       "version_minor": 0
      },
      "text/plain": [
       "VBox(children=(Figure(axes=[Axis(scale=LinearScale(max=11.595351235604637, min=0.3203827198108803), side='bott…"
      ]
     },
     "metadata": {},
     "output_type": "display_data"
    }
   ],
   "source": [
    "from math import exp\n",
    "\n",
    "x_data = np.arange(0.0, 15.0, 0.01)\n",
    "y_data = [3.0 * x0 * exp(-1.0 * x0) for x0 in x_data]\n",
    "\n",
    "plt.plot(x_data, y_data)\n",
    "plt.show()"
   ]
  },
  {
   "cell_type": "code",
   "execution_count": 4,
   "metadata": {},
   "outputs": [
    {
     "name": "stderr",
     "output_type": "stream",
     "text": [
      "/home/john/.local/lib/python3.6/site-packages/bqplot/pyplot.py:603: FutureWarning: Conversion of the second argument of issubdtype from `str` to `str` is deprecated. In future, it will be treated as `np.str_ == np.dtype(str).type`.\n",
      "  issubdtype(dtype, Scale.scale_types[key].dtype)\n"
     ]
    },
    {
     "data": {
      "application/vnd.jupyter.widget-view+json": {
       "model_id": "bdcff7c53bbb44928d80c48c86bf565d",
       "version_major": 2,
       "version_minor": 0
      },
      "text/plain": [
       "VBox(children=(Figure(axes=[Axis(scale=DateScale()), Axis(orientation='vertical', scale=LinearScale())], fig_m…"
      ]
     },
     "metadata": {},
     "output_type": "display_data"
    }
   ],
   "source": [
    "import datetime as dt\n",
    "\n",
    "dates = np.arange(dt.datetime(2014, 1, 2), dt.datetime(2014, 1, 30), dt.timedelta(days=1))\n",
    "\n",
    "prices = np.array([[ 187.21  ,  187.4   ,  185.2   ,  185.53  ],\n",
    "       [ 185.83  ,  187.35  ,  185.3   ,  186.64  ],\n",
    "       [ 187.15  ,  187.355 ,  185.3   ,  186.    ],\n",
    "       [ 186.39  ,  190.35  ,  186.38  ,  189.71  ],\n",
    "       [ 189.33  ,  189.4175,  187.26  ,  187.97  ],\n",
    "       [ 189.02  ,  189.5   ,  186.55  ,  187.38  ],\n",
    "       [ 188.31  ,  188.57  ,  186.28  ,  187.26  ],\n",
    "       [ 186.26  ,  186.95  ,  183.86  ,  184.16  ],\n",
    "       [ 185.06  ,  186.428 ,  183.8818,  185.92  ],\n",
    "       [ 185.82  ,  188.65  ,  185.49  ,  187.74  ],\n",
    "       [ 187.53  ,  188.99  ,  186.8   ,  188.76  ],\n",
    "       [ 188.04  ,  190.81  ,  187.86  ,  190.09  ],\n",
    "       [ 190.23  ,  190.39  ,  186.79  ,  188.43  ],\n",
    "       [ 181.28  ,  183.5   ,  179.67  ,  182.25  ],\n",
    "       [ 181.43  ,  183.72  ,  180.71  ,  182.73  ],\n",
    "       [ 181.25  ,  182.8141,  179.64  ,  179.64  ],\n",
    "       [ 179.605 ,  179.65  ,  177.66  ,  177.9   ],\n",
    "       [ 178.05  ,  178.45  ,  176.16  ,  176.85  ],\n",
    "       [ 175.98  ,  178.53  ,  175.89  ,  176.4   ],\n",
    "       [ 177.17  ,  177.86  ,  176.36  ,  177.36  ]])\n",
    "\n",
    "plt.figure()\n",
    "plt.ohlc(dates, prices)\n",
    "plt.show()"
   ]
  },
  {
   "cell_type": "code",
   "execution_count": null,
   "metadata": {},
   "outputs": [],
   "source": []
  }
 ],
 "metadata": {
  "kernelspec": {
   "display_name": "Python 3",
   "language": "python",
   "name": "python3"
  },
  "language_info": {
   "codemirror_mode": {
    "name": "ipython",
    "version": 3
   },
   "file_extension": ".py",
   "mimetype": "text/x-python",
   "name": "python",
   "nbconvert_exporter": "python",
   "pygments_lexer": "ipython3",
   "version": "3.6.5"
  }
 },
 "nbformat": 4,
 "nbformat_minor": 2
}
